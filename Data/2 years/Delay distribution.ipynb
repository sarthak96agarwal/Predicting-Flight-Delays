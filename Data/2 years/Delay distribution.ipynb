{
 "cells": [
  {
   "cell_type": "code",
   "execution_count": 69,
   "metadata": {},
   "outputs": [],
   "source": [
    "import pandas as pd\n",
    "import numpy as np\n",
    "import matplotlib.pyplot as plt"
   ]
  },
  {
   "cell_type": "code",
   "execution_count": 70,
   "metadata": {},
   "outputs": [
    {
     "data": {
      "text/plain": [
       "Index(['YEAR', 'MONTH', 'DAY_OF_MONTH', 'OP_UNIQUE_CARRIER', 'TAIL_NUM',\n",
       "       'DEP_TIME', 'DEP_DELAY', 'DATE', 'STATION', 'NAME', 'AWND', 'PGTM',\n",
       "       'PRCP', 'SNOW', 'SNWD', 'TAVG', 'TMAX', 'TMIN', 'WDF2', 'WDF5', 'WSF2',\n",
       "       'WSF5', 'WT01', 'WT02', 'WT03', 'WT04', 'WT06', 'WT08', 'WT09'],\n",
       "      dtype='object')"
      ]
     },
     "execution_count": 70,
     "metadata": {},
     "output_type": "execute_result"
    }
   ],
   "source": [
    "df=pd.read_csv('merged.csv',index_col=0)\n",
    "df.columns"
   ]
  },
  {
   "cell_type": "code",
   "execution_count": 73,
   "metadata": {},
   "outputs": [],
   "source": [
    "df=df[df['DEP_DELAY'].notna()]\n",
    "df=df[['DEP_DELAY','OP_UNIQUE_CARRIER']]"
   ]
  },
  {
   "cell_type": "code",
   "execution_count": 98,
   "metadata": {},
   "outputs": [
    {
     "data": {
      "image/png": "[encoded data removed]",
      "text/plain": [
       "<Figure size 432x288 with 1 Axes>"
      ]
     },
     "metadata": {
      "needs_background": "light"
     },
     "output_type": "display_data"
    }
   ],
   "source": [
    "a=np.sort(df['DEP_DELAY'])\n",
    "temp=a[:203000]\n",
    "binwidth=8\n",
    "plt.hist(temp,bins=range(int(min(temp)),int(max(temp))+binwidth,binwidth))\n",
    "#plt.yscale('log', nonposy='clip')\n",
    "plt.xlabel('Delay in minutes')\n",
    "plt.title('Delay distribution')\n",
    "plt.xlim(-50)\n",
    "plt.show()"
   ]
  },
  {
   "cell_type": "code",
   "execution_count": 66,
   "metadata": {},
   "outputs": [],
   "source": [
    "\n",
    "df=df[df['DEP_DELAY']>=-20]\n",
    "df=df[ df['DEP_DELAY']<200]"
   ]
  },
  {
   "cell_type": "code",
   "execution_count": 25,
   "metadata": {},
   "outputs": [],
   "source": [
    "delay=[]\n",
    "for i,j in df['DEP_DELAY'].iteritems():\n",
    "    if(j>15):\n",
    "        delay.append(1)\n",
    "    else:\n",
    "        delay.append(0)"
   ]
  },
  {
   "cell_type": "code",
   "execution_count": 26,
   "metadata": {},
   "outputs": [],
   "source": [
    "df['DEP_DELAY']=delay\n"
   ]
  },
  {
   "cell_type": "code",
   "execution_count": 30,
   "metadata": {},
   "outputs": [
    {
     "data": {
      "text/plain": [
       "array(['DL', 'AS', 'AA', 'HA', 'VX', 'B6', 'MQ', 'OH', 'YX', '9E', 'OO'],\n",
       "      dtype=object)"
      ]
     },
     "execution_count": 30,
     "metadata": {},
     "output_type": "execute_result"
    }
   ],
   "source": [
    "b=df['OP_UNIQUE_CARRIER'].unique()\n",
    "b"
   ]
  },
  {
   "cell_type": "code",
   "execution_count": 32,
   "metadata": {},
   "outputs": [],
   "source": [
    "d={}\n",
    "for i in b:\n",
    "    a=df[df['OP_UNIQUE_CARRIER']==i]\n",
    "    summ=a['DEP_DELAY'].sum()\n",
    "    d[i]=summ\n",
    "    \n",
    "    "
   ]
  },
  {
   "cell_type": "code",
   "execution_count": 46,
   "metadata": {},
   "outputs": [
    {
     "data": {
      "text/plain": [
       "array(['OH', 'HA', 'OO', 'YX', 'AS', 'MQ', 'VX', '9E', 'AA', 'DL', 'B6'],\n",
       "      dtype='<U5')"
      ]
     },
     "execution_count": 46,
     "metadata": {},
     "output_type": "execute_result"
    }
   ],
   "source": [
    "import operator\n",
    "sorted_d = sorted(d.items(), key=operator.itemgetter(1))\n",
    "sorted_d=np.array(sorted_d)\n",
    "sorted_d[:,0]"
   ]
  },
  {
   "cell_type": "code",
   "execution_count": 63,
   "metadata": {},
   "outputs": [
    {
     "data": {
      "text/plain": [
       "Text(0.5, 1.0, 'Delay distribution by carrier')"
      ]
     },
     "execution_count": 63,
     "metadata": {},
     "output_type": "execute_result"
    },
    {
     "data": {
      "image/png": "[encoded data removed]",
      "text/plain": [
       "<Figure size 432x288 with 1 Axes>"
      ]
     },
     "metadata": {
      "needs_background": "light"
     },
     "output_type": "display_data"
    }
   ],
   "source": [
    "plt.bar(sorted_d[:,0],(sorted_d[:,1]).astype(int))\n",
    "plt.ylim(bottom=0,top=19000)\n",
    "plt.xlabel('Carrier name')\n",
    "plt.ylabel('Number of delays in 2 years')\n",
    "plt.title('Delay distribution by carrier')"
   ]
  },
  {
   "cell_type": "code",
   "execution_count": null,
   "metadata": {},
   "outputs": [],
   "source": []
  }
 ],
 "metadata": {
  "kernelspec": {
   "display_name": "Python 3",
   "language": "python",
   "name": "python3"
  },
  "language_info": {
   "codemirror_mode": {
    "name": "ipython",
    "version": 3
   },
   "file_extension": ".py",
   "mimetype": "text/x-python",
   "name": "python",
   "nbconvert_exporter": "python",
   "pygments_lexer": "ipython3",
   "version": "3.6.6"
  }
 },
 "nbformat": 4,
 "nbformat_minor": 2
}
