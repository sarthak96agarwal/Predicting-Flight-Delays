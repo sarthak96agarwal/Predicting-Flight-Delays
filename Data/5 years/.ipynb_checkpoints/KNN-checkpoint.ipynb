{
 "cells": [
  {
   "cell_type": "code",
   "execution_count": 1,
   "metadata": {},
   "outputs": [],
   "source": [
    "import pandas as pd\n",
    "import numpy as np\n",
    "from sklearn.model_selection import train_test_split\n",
    "from sklearn.neighbors import KNeighborsClassifier\n",
    "import random\n",
    "from sklearn.model_selection import KFold\n",
    "import matplotlib.pyplot  as plt\n",
    "from sklearn.metrics import confusion_matrix, roc_auc_score"
   ]
  },
  {
   "cell_type": "code",
   "execution_count": 2,
   "metadata": {},
   "outputs": [
    {
     "data": {
      "text/html": [
       "<div>\n",
       "<style scoped>\n",
       "    .dataframe tbody tr th:only-of-type {\n",
       "        vertical-align: middle;\n",
       "    }\n",
       "\n",
       "    .dataframe tbody tr th {\n",
       "        vertical-align: top;\n",
       "    }\n",
       "\n",
       "    .dataframe thead th {\n",
       "        text-align: right;\n",
       "    }\n",
       "</style>\n",
       "<table border=\"1\" class=\"dataframe\">\n",
       "  <thead>\n",
       "    <tr style=\"text-align: right;\">\n",
       "      <th></th>\n",
       "      <th>WIND_SPEED</th>\n",
       "      <th>RAIN</th>\n",
       "      <th>SNOW</th>\n",
       "      <th>SNOW_DEPTH</th>\n",
       "      <th>TAVG</th>\n",
       "      <th>FOG</th>\n",
       "      <th>HEAVY_FOG</th>\n",
       "      <th>THUNDER</th>\n",
       "      <th>HAIL</th>\n",
       "      <th>GLAZE</th>\n",
       "      <th>...</th>\n",
       "      <th>MAR</th>\n",
       "      <th>APR</th>\n",
       "      <th>MAY</th>\n",
       "      <th>JUN</th>\n",
       "      <th>JUL</th>\n",
       "      <th>AUG</th>\n",
       "      <th>SEP</th>\n",
       "      <th>OCT</th>\n",
       "      <th>NOV</th>\n",
       "      <th>DEC</th>\n",
       "    </tr>\n",
       "  </thead>\n",
       "  <tbody>\n",
       "    <tr>\n",
       "      <th>0</th>\n",
       "      <td>7.83</td>\n",
       "      <td>0.0</td>\n",
       "      <td>0.0</td>\n",
       "      <td>0.0</td>\n",
       "      <td>72</td>\n",
       "      <td>0</td>\n",
       "      <td>0</td>\n",
       "      <td>0</td>\n",
       "      <td>0</td>\n",
       "      <td>0</td>\n",
       "      <td>...</td>\n",
       "      <td>0</td>\n",
       "      <td>0</td>\n",
       "      <td>0</td>\n",
       "      <td>0</td>\n",
       "      <td>0</td>\n",
       "      <td>1</td>\n",
       "      <td>0</td>\n",
       "      <td>0</td>\n",
       "      <td>0</td>\n",
       "      <td>0</td>\n",
       "    </tr>\n",
       "    <tr>\n",
       "      <th>1</th>\n",
       "      <td>7.83</td>\n",
       "      <td>0.0</td>\n",
       "      <td>0.0</td>\n",
       "      <td>0.0</td>\n",
       "      <td>72</td>\n",
       "      <td>0</td>\n",
       "      <td>0</td>\n",
       "      <td>0</td>\n",
       "      <td>0</td>\n",
       "      <td>0</td>\n",
       "      <td>...</td>\n",
       "      <td>0</td>\n",
       "      <td>0</td>\n",
       "      <td>0</td>\n",
       "      <td>0</td>\n",
       "      <td>0</td>\n",
       "      <td>1</td>\n",
       "      <td>0</td>\n",
       "      <td>0</td>\n",
       "      <td>0</td>\n",
       "      <td>0</td>\n",
       "    </tr>\n",
       "    <tr>\n",
       "      <th>2</th>\n",
       "      <td>7.83</td>\n",
       "      <td>0.0</td>\n",
       "      <td>0.0</td>\n",
       "      <td>0.0</td>\n",
       "      <td>72</td>\n",
       "      <td>0</td>\n",
       "      <td>0</td>\n",
       "      <td>0</td>\n",
       "      <td>0</td>\n",
       "      <td>0</td>\n",
       "      <td>...</td>\n",
       "      <td>0</td>\n",
       "      <td>0</td>\n",
       "      <td>0</td>\n",
       "      <td>0</td>\n",
       "      <td>0</td>\n",
       "      <td>1</td>\n",
       "      <td>0</td>\n",
       "      <td>0</td>\n",
       "      <td>0</td>\n",
       "      <td>0</td>\n",
       "    </tr>\n",
       "    <tr>\n",
       "      <th>3</th>\n",
       "      <td>7.83</td>\n",
       "      <td>0.0</td>\n",
       "      <td>0.0</td>\n",
       "      <td>0.0</td>\n",
       "      <td>72</td>\n",
       "      <td>0</td>\n",
       "      <td>0</td>\n",
       "      <td>0</td>\n",
       "      <td>0</td>\n",
       "      <td>0</td>\n",
       "      <td>...</td>\n",
       "      <td>0</td>\n",
       "      <td>0</td>\n",
       "      <td>0</td>\n",
       "      <td>0</td>\n",
       "      <td>0</td>\n",
       "      <td>1</td>\n",
       "      <td>0</td>\n",
       "      <td>0</td>\n",
       "      <td>0</td>\n",
       "      <td>0</td>\n",
       "    </tr>\n",
       "    <tr>\n",
       "      <th>4</th>\n",
       "      <td>7.83</td>\n",
       "      <td>0.0</td>\n",
       "      <td>0.0</td>\n",
       "      <td>0.0</td>\n",
       "      <td>72</td>\n",
       "      <td>0</td>\n",
       "      <td>0</td>\n",
       "      <td>0</td>\n",
       "      <td>0</td>\n",
       "      <td>0</td>\n",
       "      <td>...</td>\n",
       "      <td>0</td>\n",
       "      <td>0</td>\n",
       "      <td>0</td>\n",
       "      <td>0</td>\n",
       "      <td>0</td>\n",
       "      <td>1</td>\n",
       "      <td>0</td>\n",
       "      <td>0</td>\n",
       "      <td>0</td>\n",
       "      <td>0</td>\n",
       "    </tr>\n",
       "  </tbody>\n",
       "</table>\n",
       "<p>5 rows × 64 columns</p>\n",
       "</div>"
      ],
      "text/plain": [
       "   WIND_SPEED  RAIN  SNOW  SNOW_DEPTH  TAVG  FOG  HEAVY_FOG  THUNDER  HAIL  \\\n",
       "0        7.83   0.0   0.0         0.0    72    0          0        0     0   \n",
       "1        7.83   0.0   0.0         0.0    72    0          0        0     0   \n",
       "2        7.83   0.0   0.0         0.0    72    0          0        0     0   \n",
       "3        7.83   0.0   0.0         0.0    72    0          0        0     0   \n",
       "4        7.83   0.0   0.0         0.0    72    0          0        0     0   \n",
       "\n",
       "   GLAZE ...   MAR  APR  MAY  JUN  JUL  AUG  SEP  OCT  NOV  DEC  \n",
       "0      0 ...     0    0    0    0    0    1    0    0    0    0  \n",
       "1      0 ...     0    0    0    0    0    1    0    0    0    0  \n",
       "2      0 ...     0    0    0    0    0    1    0    0    0    0  \n",
       "3      0 ...     0    0    0    0    0    1    0    0    0    0  \n",
       "4      0 ...     0    0    0    0    0    1    0    0    0    0  \n",
       "\n",
       "[5 rows x 64 columns]"
      ]
     },
     "execution_count": 2,
     "metadata": {},
     "output_type": "execute_result"
    }
   ],
   "source": [
    "data=pd.read_csv('Final.csv',index_col=0)\n",
    "data.head()"
   ]
  },
  {
   "cell_type": "code",
   "execution_count": 3,
   "metadata": {},
   "outputs": [],
   "source": [
    "random.seed(0)\n",
    "X_train, X_test, y_train, y_test = train_test_split(data.drop('Y',axis=1), data['Y'], test_size=0.25)"
   ]
  },
  {
   "cell_type": "code",
   "execution_count": 4,
   "metadata": {},
   "outputs": [],
   "source": [
    "def hyperparameter_tuning(X_train,y_train,cs):\n",
    "    cs_l1=dict((n,[]) for n in cs)\n",
    "    cs_l2=dict((n,[]) for n in cs)\n",
    "    kf = KFold(n_splits=5)\n",
    "    for train_index, test_index in kf.split(X_train):\n",
    "        cv_train_x,cv_validate_x= X_train.iloc[train_index],X_train.iloc[test_index]\n",
    "        cv_train_y,cv_validate_y= y_train.iloc[train_index],y_train.iloc[test_index]\n",
    "        for n in cs:\n",
    "            neigh_l1 = KNeighborsClassifier(n_neighbors=n,weights='distance',metric='l1').fit(cv_train_x,cv_train_y)\n",
    "            cs_l1[n].append(roc_auc_score(cv_validate_y, neigh_l1.predict_proba(cv_validate_x)[:,1]))\n",
    "            neigh_l2=KNeighborsClassifier(n_neighbors=n,weights='distance',metric='l2').fit(cv_train_x,cv_train_y)\n",
    "            cs_l2[n].append(roc_auc_score(cv_validate_y, neigh_l2.predict_proba(cv_validate_x)[:,1]))\n",
    "    return (cs_l1,cs_l2)"
   ]
  },
  {
   "cell_type": "code",
   "execution_count": 5,
   "metadata": {},
   "outputs": [],
   "source": [
    "cs=[1,2,3,5,7,10,25,50]\n",
    "acc_l1,acc_l2=hyperparameter_tuning(X_train,y_train,cs)\n"
   ]
  },
  {
   "cell_type": "code",
   "execution_count": 6,
   "metadata": {},
   "outputs": [],
   "source": [
    "mean_acc_l1=[]\n",
    "stderr_acc_l1=[]\n",
    "mean_acc_l2=[]\n",
    "stderr_acc_l2=[]\n",
    "mean_l1=0\n",
    "mean_l2=0\n",
    "for c in cs:\n",
    "    x_l1=np.array(acc_l1[c])\n",
    "    m_l1=np.mean(x_l1)\n",
    "    v_l1=np.var(x_l1)\n",
    "    mean_acc_l1.append(m_l1)\n",
    "    stderr_acc_l1.append(np.sqrt(v_l1/len(x_l1)))\n",
    "    \n",
    "    x_l2=np.array(acc_l2[c])\n",
    "    m_l2=np.mean(x_l2)\n",
    "    v_l2=np.var(x_l2)\n",
    "    mean_acc_l2.append(m_l2)\n",
    "    stderr_acc_l2.append(np.sqrt(v_l2/len(x_l2)))\n",
    "    \n",
    "    \n",
    "mean_acc_l1=np.array(mean_acc_l1)\n",
    "stderr_acc_l1=np.array(stderr_acc_l1)\n",
    "mean_acc_l2=np.array(mean_acc_l2)\n",
    "stderr_acc_l2=np.array(stderr_acc_l2)"
   ]
  },
  {
   "cell_type": "code",
   "execution_count": 7,
   "metadata": {},
   "outputs": [
    {
     "data": {
      "text/plain": [
       "Text(0.5, 0, 'cs')"
      ]
     },
     "execution_count": 7,
     "metadata": {},
     "output_type": "execute_result"
    },
    {
     "data": {
      "image/png": "[encoded data removed]",
      "text/plain": [
       "<Figure size 720x432 with 1 Axes>"
      ]
     },
     "metadata": {
      "needs_background": "light"
     },
     "output_type": "display_data"
    }
   ],
   "source": [
    "fig = plt.figure(figsize = (10, 6))\n",
    "ax = fig.add_subplot(111)\n",
    "plt.plot(cs, mean_acc_l1, label='mean_acc_l1')\n",
    "plt.plot(cs, mean_acc_l2, label='mean_acc_l2')\n",
    "plt.plot(cs, mean_acc_l1+2*stderr_acc_l1, 'k--', label='mean_acc_l1+2*stderr_acc_l1')\n",
    "plt.plot(cs, mean_acc_l1-2*stderr_acc_l1, 'k+',label='mean_acc_l1-2*stderr_acc_l1')\n",
    "plt.plot(cs, mean_acc_l2+2*stderr_acc_l2, 'b--', label='mean_acc_l2+2*stderr_acc_l2')\n",
    "plt.plot(cs, mean_acc_l2-2*stderr_acc_l2, 'b+',label='mean_acc_l2-2*stderr_acc_l2')\n",
    "plt.legend(loc = 4)\n",
    "ax.set_xlabel('cs')"
   ]
  },
  {
   "cell_type": "code",
   "execution_count": 8,
   "metadata": {},
   "outputs": [
    {
     "data": {
      "text/plain": [
       "array([0.6125112 , 0.64812393, 0.66395902, 0.67598512, 0.67840264,\n",
       "       0.67968982, 0.67950577, 0.67847998])"
      ]
     },
     "execution_count": 8,
     "metadata": {},
     "output_type": "execute_result"
    }
   ],
   "source": [
    "mean_acc_l1+2*stderr_acc_l1"
   ]
  },
  {
   "cell_type": "code",
   "execution_count": 9,
   "metadata": {},
   "outputs": [],
   "source": [
    "from sklearn import metrics\n",
    "neigh=KNeighborsClassifier(n_neighbors=5,weights='distance',metric='l2').fit(X_train,y_train)\n",
    "fpr_lr, tpr_lr, thresholds_lr = metrics.roc_curve(y_test, neigh.predict_proba(X_test)[:,1])\n",
    "lr_auc=roc_auc_score(y_test, neigh.predict_proba(X_test)[:,1])"
   ]
  },
  {
   "cell_type": "code",
   "execution_count": 10,
   "metadata": {},
   "outputs": [
    {
     "data": {
      "text/plain": [
       "Text(0, 0.5, 'TP rate')"
      ]
     },
     "execution_count": 10,
     "metadata": {},
     "output_type": "execute_result"
    },
    {
     "data": {
      "image/png": "[encoded data removed]",
      "text/plain": [
       "<Figure size 432x288 with 1 Axes>"
      ]
     },
     "metadata": {
      "needs_background": "light"
     },
     "output_type": "display_data"
    }
   ],
   "source": [
    "fig = plt.figure(figsize = (6, 4))\n",
    "ax = fig.add_subplot(111)\n",
    "plt.plot( fpr_lr,tpr_lr, label='ROC_KNN,AUC={}'.format(round(lr_auc,3)))\n",
    "plt.plot([0, 1], [0, 1], color='navy', linestyle='--')\n",
    "plt.legend(loc = 4)\n",
    "ax.set_xlabel('FP rate')\n",
    "ax.set_ylabel('TP rate')"
   ]
  },
  {
   "cell_type": "code",
   "execution_count": 12,
   "metadata": {},
   "outputs": [
    {
     "name": "stdout",
     "output_type": "stream",
     "text": [
      "FP Rate:0.06892386892386893\n",
      "Precision:0.9310761310761311\n",
      "Recall:0.8471342743134058\n",
      "FN rate:0.15286572568659418\n",
      "Accuracy:0.8084471194634311\n",
      "F-Score:0.8871239311603601\n"
     ]
    }
   ],
   "source": [
    "cm=confusion_matrix(y_test,neigh.predict(X_test))\n",
    "prec=cm[0][0]/(cm[0][1]+cm[0][0])\n",
    "recall=cm[0][0]/(cm[1][0]+cm[0][0])\n",
    "f=2*prec*recall/(prec+recall)\n",
    "print ('FP Rate:{}'.format(cm[0][1]/(cm[0][1]+cm[0][0])))\n",
    "print ('Precision:{}'.format(prec))\n",
    "print ('Recall:{}'.format(recall))\n",
    "print ('FN rate:{}'.format(cm[1][0]/(cm[1][0]+cm[0][0])))\n",
    "print ('Accuracy:{}'.format(neigh.score(X_test,y_test)))\n",
    "print ('F-Score:{}'.format(f))"
   ]
  },
  {
   "cell_type": "code",
   "execution_count": null,
   "metadata": {},
   "outputs": [],
   "source": []
  }
 ],
 "metadata": {
  "kernelspec": {
   "display_name": "Python 3",
   "language": "python",
   "name": "python3"
  },
  "language_info": {
   "codemirror_mode": {
    "name": "ipython",
    "version": 3
   },
   "file_extension": ".py",
   "mimetype": "text/x-python",
   "name": "python",
   "nbconvert_exporter": "python",
   "pygments_lexer": "ipython3",
   "version": "3.6.6"
  }
 },
 "nbformat": 4,
 "nbformat_minor": 2
}
